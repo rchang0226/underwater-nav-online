{
 "cells": [
  {
   "cell_type": "code",
   "execution_count": null,
   "metadata": {},
   "outputs": [],
   "source": [
    "import pickle\n",
    "import os\n",
    "from utils import *\n",
    "import torch\n",
    "import torch.onnx\n",
    "from torch import nn"
   ]
  },
  {
   "cell_type": "code",
   "execution_count": 7,
   "metadata": {},
   "outputs": [],
   "source": [
    "policy_net, value_net, running_state = pickle.load(\n",
    "        open(os.path.join(assets_dir(), 'learned_models/{}_ppo_rand_best.p'.format(\"navigation\",\n",
    "                                                                      5)), \"rb\"))"
   ]
  },
  {
   "cell_type": "code",
   "execution_count": 10,
   "metadata": {},
   "outputs": [
    {
     "name": "stdout",
     "output_type": "stream",
     "text": [
      "Policy(\n",
      "  (conv1): Conv2d(5, 32, kernel_size=(10, 14), stride=(8, 8), padding=(1, 4))\n",
      "  (conv2): Conv2d(32, 64, kernel_size=(4, 4), stride=(2, 2), padding=(1, 1))\n",
      "  (conv3): Conv2d(64, 64, kernel_size=(3, 3), stride=(1, 1), padding=(1, 1))\n",
      "  (fc_img): Linear(in_features=5120, out_features=512, bias=True)\n",
      "  (fc_goal): Linear(in_features=15, out_features=96, bias=True)\n",
      "  (fc_ray): Linear(in_features=5, out_features=32, bias=True)\n",
      "  (fc_action): Linear(in_features=10, out_features=64, bias=True)\n",
      "  (img_goal_ray1): Linear(in_features=704, out_features=512, bias=True)\n",
      "  (img_goal_ray2): Linear(in_features=512, out_features=2, bias=True)\n",
      "  (relu): ReLU()\n",
      "  (tanh): Tanh()\n",
      ")\n"
     ]
    }
   ],
   "source": [
    "print(policy_net)"
   ]
  },
  {
   "cell_type": "code",
   "execution_count": null,
   "metadata": {},
   "outputs": [],
   "source": [
    "x = "
   ]
  }
 ],
 "metadata": {
  "kernelspec": {
   "display_name": "Python 3",
   "language": "python",
   "name": "python3"
  },
  "language_info": {
   "codemirror_mode": {
    "name": "ipython",
    "version": 3
   },
   "file_extension": ".py",
   "mimetype": "text/x-python",
   "name": "python",
   "nbconvert_exporter": "python",
   "pygments_lexer": "ipython3",
   "version": "3.7.6"
  }
 },
 "nbformat": 4,
 "nbformat_minor": 4
}
