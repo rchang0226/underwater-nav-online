{
 "cells": [
  {
   "cell_type": "code",
   "execution_count": 2,
   "metadata": {},
   "outputs": [],
   "source": [
    "import pickle\n",
    "import os\n",
    "from utils import *\n",
    "import torch\n",
    "import torch.onnx\n",
    "from torch import nn"
   ]
  },
  {
   "cell_type": "code",
   "execution_count": 3,
   "metadata": {},
   "outputs": [],
   "source": [
    "policy_net, value_net, running_state = pickle.load(\n",
    "        open(os.path.join(assets_dir(), 'learned_models/{}_ppo_rand_best.p'.format(\"navigation\",\n",
    "                                                                      5)), \"rb\"))"
   ]
  },
  {
   "cell_type": "code",
   "execution_count": 4,
   "metadata": {
    "scrolled": true
   },
   "outputs": [
    {
     "name": "stdout",
     "output_type": "stream",
     "text": [
      "Policy(\n",
      "  (conv1): Conv2d(5, 32, kernel_size=(10, 14), stride=(8, 8), padding=(1, 4))\n",
      "  (conv2): Conv2d(32, 64, kernel_size=(4, 4), stride=(2, 2), padding=(1, 1))\n",
      "  (conv3): Conv2d(64, 64, kernel_size=(3, 3), stride=(1, 1), padding=(1, 1))\n",
      "  (fc_img): Linear(in_features=5120, out_features=512, bias=True)\n",
      "  (fc_goal): Linear(in_features=15, out_features=96, bias=True)\n",
      "  (fc_ray): Linear(in_features=5, out_features=32, bias=True)\n",
      "  (fc_action): Linear(in_features=10, out_features=64, bias=True)\n",
      "  (img_goal_ray1): Linear(in_features=704, out_features=512, bias=True)\n",
      "  (img_goal_ray2): Linear(in_features=512, out_features=2, bias=True)\n",
      "  (relu): ReLU()\n",
      "  (tanh): Tanh()\n",
      ")\n"
     ]
    }
   ],
   "source": [
    "print(policy_net)"
   ]
  },
  {
   "cell_type": "code",
   "execution_count": 35,
   "metadata": {
    "scrolled": false
   },
   "outputs": [],
   "source": [
    "class MyPolicy(nn.Module):\n",
    "    def __init__(self, pretrained_net):\n",
    "        super(MyPolicy, self).__init__()\n",
    "        self.is_disc_action = False\n",
    "\n",
    "        \"\"\" layers for inputs of depth_images \"\"\"\n",
    "        self.conv1 = pretrained_net.conv1\n",
    "        self.conv2 = pretrained_net.conv2\n",
    "        self.conv3 = pretrained_net.conv3\n",
    "        self.fc_img = pretrained_net.fc_img\n",
    "\n",
    "        \"\"\" layers for inputs of goals and rays \"\"\"\n",
    "        self.fc_ray = pretrained_net.fc_ray\n",
    "        self.fc_action = pretrained_net.fc_action\n",
    "\n",
    "        \"\"\" layers for inputs concatenated information \"\"\"\n",
    "        self.img_goal_ray1 = nn.Linear(608, 512)\n",
    "        self.img_goal_ray2 = pretrained_net.img_goal_ray2 # two dimensions of actions: upward and downward; turning\n",
    "\n",
    "        self.relu = nn.ReLU()\n",
    "        self.tanh = nn.Tanh()\n",
    "\n",
    "        self.action_log_std = pretrained_net.action_log_std\n",
    "\n",
    "    def forward(self, depth_img, ray, hist_action):\n",
    "        depth_img = self.relu(self.conv1(depth_img))\n",
    "        depth_img = self.relu(self.conv2(depth_img))\n",
    "        depth_img = self.relu(self.conv3(depth_img))\n",
    "        depth_img = depth_img.view(depth_img.size(0), -1)\n",
    "        depth_img = self.relu(self.fc_img(depth_img))\n",
    "\n",
    "        ray = ray.view(ray.size(0), -1)\n",
    "        ray = self.relu(self.fc_ray(ray))\n",
    "\n",
    "        hist_action = hist_action.view(hist_action.size(0), -1)\n",
    "        hist_action = self.relu(self.fc_action(hist_action))\n",
    "\n",
    "        img_goal_ray_aciton = torch.cat((depth_img, ray, hist_action), 1)\n",
    "        img_goal_ray_aciton = self.relu(self.img_goal_ray1(img_goal_ray_aciton.float()))\n",
    "        action_mean = self.tanh(self.img_goal_ray2(img_goal_ray_aciton.double()))\n",
    "\n",
    "        action_log_std = self.action_log_std.expand_as(action_mean)\n",
    "        action_std = torch.exp(action_log_std)\n",
    "\n",
    "        return action_mean, action_log_std, action_std\n",
    "\n",
    "    def select_action(self, depth_img, ray, hist_action):\n",
    "        action_mean, _, action_std = self.forward(depth_img, ray, hist_action)\n",
    "        # print \"action:\", action_mean, action_std\n",
    "        action = torch.clamp(torch.normal(action_mean, action_std), -1, 1)\n",
    "        # print action, \"\\n\\n\\n\"\n",
    "        return action\n",
    "\n",
    "    def get_log_prob(self, depth_img, ray, hist_action, actions):\n",
    "        action_mean, action_log_std, action_std = self.forward(depth_img, ray, hist_action)\n",
    "        return normal_log_density(actions, action_mean, action_log_std, action_std)"
   ]
  },
  {
   "cell_type": "code",
   "execution_count": 36,
   "metadata": {},
   "outputs": [],
   "source": [
    "my_policy = MyPolicy(policy_net)\n",
    "depth_img = torch.randn(1, 5, 128, 160, requires_grad=True, dtype=torch.double)\n",
    "ray = torch.randn(1, 5, requires_grad=True, dtype=torch.double)\n",
    "hist_action = torch.randn(1, 5, 2, requires_grad=True, dtype=torch.double)\n",
    "torch_out = my_policy(depth_img, ray, hist_action)"
   ]
  },
  {
   "cell_type": "code",
   "execution_count": 37,
   "metadata": {},
   "outputs": [
    {
     "data": {
      "text/plain": [
       "(tensor([[0.1735, 0.1958]], dtype=torch.float64, grad_fn=<TanhBackward0>),\n",
       " tensor([[-0.7574, -0.7946]], dtype=torch.float64, grad_fn=<ExpandBackward0>),\n",
       " tensor([[0.4689, 0.4518]], dtype=torch.float64, grad_fn=<ExpBackward0>))"
      ]
     },
     "execution_count": 37,
     "metadata": {},
     "output_type": "execute_result"
    }
   ],
   "source": [
    "torch_out"
   ]
  },
  {
   "cell_type": "code",
   "execution_count": null,
   "metadata": {},
   "outputs": [],
   "source": []
  }
 ],
 "metadata": {
  "kernelspec": {
   "display_name": "Python 3",
   "language": "python",
   "name": "python3"
  },
  "language_info": {
   "codemirror_mode": {
    "name": "ipython",
    "version": 3
   },
   "file_extension": ".py",
   "mimetype": "text/x-python",
   "name": "python",
   "nbconvert_exporter": "python",
   "pygments_lexer": "ipython3",
   "version": "3.7.6"
  }
 },
 "nbformat": 4,
 "nbformat_minor": 4
}
